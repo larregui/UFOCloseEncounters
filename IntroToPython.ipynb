{
  "nbformat": 4,
  "nbformat_minor": 0,
  "metadata": {
    "colab": {
      "provenance": [],
      "authorship_tag": "ABX9TyPIT/96aBwujh5WtV1BD09C",
      "include_colab_link": true
    },
    "kernelspec": {
      "name": "python3",
      "display_name": "Python 3"
    },
    "language_info": {
      "name": "python"
    }
  },
  "cells": [
    {
      "cell_type": "markdown",
      "metadata": {
        "id": "view-in-github",
        "colab_type": "text"
      },
      "source": [
        "<a href=\"https://colab.research.google.com/github/larregui/UFOCloseEncounters/blob/main/IntroToPython.ipynb\" target=\"_parent\"><img src=\"https://colab.research.google.com/assets/colab-badge.svg\" alt=\"Open In Colab\"/></a>"
      ]
    },
    {
      "cell_type": "markdown",
      "source": [
        "# **First Program**\n",
        "🙂"
      ],
      "metadata": {
        "id": "dyCKQPhNOan5"
      }
    },
    {
      "cell_type": "code",
      "execution_count": null,
      "metadata": {
        "colab": {
          "base_uri": "https://localhost:8080/"
        },
        "id": "CXQnk7vH1Ba-",
        "outputId": "03dc2175-c9a3-4d82-dc6a-e4e2f1c6422b"
      },
      "outputs": [
        {
          "output_type": "stream",
          "name": "stdout",
          "text": [
            "Hello World\n"
          ]
        }
      ],
      "source": [
        "#use the hashtag symbol to make comments\n",
        "print(\"Hello World\")#Hello World is a string\n",
        "#Print(\"Hello World\") #This statement wouln't work because print as a capital P"
      ]
    },
    {
      "cell_type": "markdown",
      "source": [
        "# **Declare a Variable**"
      ],
      "metadata": {
        "id": "lhFpt6yQO0Po"
      }
    },
    {
      "cell_type": "code",
      "source": [
        "age=20\n",
        "print(age)"
      ],
      "metadata": {
        "colab": {
          "base_uri": "https://localhost:8080/"
        },
        "id": "EY1I_klpUiMe",
        "outputId": "cc9e31bf-4f2a-464e-8318-0245ed40fa86"
      },
      "execution_count": null,
      "outputs": [
        {
          "output_type": "stream",
          "name": "stdout",
          "text": [
            "20\n"
          ]
        }
      ]
    },
    {
      "cell_type": "markdown",
      "source": [
        "# **Reiceiving Input**\n",
        "The input() function allows us to get typed information from our user. The question we write inside the input parentheses allows us to display some sort of prompt before the user types something. It wouldn’t do us any good if we didn’t store the input somewhere, so we’ll store the input in variables.\n"
      ],
      "metadata": {
        "id": "amnhR5LGi-WY"
      }
    },
    {
      "cell_type": "code",
      "source": [
        "name= input(\"What is your name? \")\n",
        "print(\"Hello \" + name)"
      ],
      "metadata": {
        "colab": {
          "base_uri": "https://localhost:8080/"
        },
        "id": "z-GBpzaBjH3q",
        "outputId": "f614e690-db1e-4010-d491-c8526fd979dc"
      },
      "execution_count": null,
      "outputs": [
        {
          "output_type": "stream",
          "name": "stdout",
          "text": [
            "What is your name? Jane\n",
            "Hello Jane\n"
          ]
        }
      ]
    },
    {
      "cell_type": "markdown",
      "source": [
        "# **Combining Data Types**"
      ],
      "metadata": {
        "id": "U-dTdQZ2PSAG"
      }
    },
    {
      "cell_type": "code",
      "source": [
        "birth_year=input(\"Enter your birth year: \")\n",
        "age=2023-birth_year #you can't subtract a string\n",
        "print(age)#There will be an error"
      ],
      "metadata": {
        "colab": {
          "base_uri": "https://localhost:8080/",
          "height": 217
        },
        "id": "s4BD3GWzbphO",
        "outputId": "5799f3e9-ad72-4c07-fc2c-cc7d86de610d"
      },
      "execution_count": null,
      "outputs": [
        {
          "name": "stdout",
          "output_type": "stream",
          "text": [
            "Enter your birth year: 2000\n"
          ]
        },
        {
          "output_type": "error",
          "ename": "TypeError",
          "evalue": "ignored",
          "traceback": [
            "\u001b[0;31m---------------------------------------------------------------------------\u001b[0m",
            "\u001b[0;31mTypeError\u001b[0m                                 Traceback (most recent call last)",
            "\u001b[0;32m<ipython-input-17-043fa9d8540d>\u001b[0m in \u001b[0;36m<cell line: 2>\u001b[0;34m()\u001b[0m\n\u001b[1;32m      1\u001b[0m \u001b[0mbirth_year\u001b[0m\u001b[0;34m=\u001b[0m\u001b[0minput\u001b[0m\u001b[0;34m(\u001b[0m\u001b[0;34m\"Enter your birth year: \"\u001b[0m\u001b[0;34m)\u001b[0m\u001b[0;34m\u001b[0m\u001b[0;34m\u001b[0m\u001b[0m\n\u001b[0;32m----> 2\u001b[0;31m \u001b[0mage\u001b[0m\u001b[0;34m=\u001b[0m\u001b[0;36m2023\u001b[0m\u001b[0;34m-\u001b[0m\u001b[0mbirth_year\u001b[0m\u001b[0;34m\u001b[0m\u001b[0;34m\u001b[0m\u001b[0m\n\u001b[0m\u001b[1;32m      3\u001b[0m \u001b[0mprint\u001b[0m\u001b[0;34m(\u001b[0m\u001b[0mage\u001b[0m\u001b[0;34m)\u001b[0m\u001b[0;34m\u001b[0m\u001b[0;34m\u001b[0m\u001b[0m\n",
            "\u001b[0;31mTypeError\u001b[0m: unsupported operand type(s) for -: 'int' and 'str'"
          ]
        }
      ]
    },
    {
      "cell_type": "code",
      "source": [
        "birth_year=input(\"Enter your birth year: \")\n",
        "age=2023-int(birth_year)\n",
        "print(age)"
      ],
      "metadata": {
        "colab": {
          "base_uri": "https://localhost:8080/"
        },
        "id": "AOib6V3Qc2bo",
        "outputId": "6e4a108f-1814-44f1-d841-f2e3fb39ee3a"
      },
      "execution_count": null,
      "outputs": [
        {
          "output_type": "stream",
          "name": "stdout",
          "text": [
            "Enter your birth year: 2000\n",
            "23\n"
          ]
        }
      ]
    },
    {
      "cell_type": "code",
      "source": [
        "#You can combine different data types by using commas:\n",
        "text1 = \"Distance to Mars:\"\n",
        "distance = 33.9\n",
        "text2 = \"million miles from Earth.\"\n",
        "\n",
        "print(text1, distance, text2)"
      ],
      "metadata": {
        "colab": {
          "base_uri": "https://localhost:8080/"
        },
        "id": "vD_QQzNidyE9",
        "outputId": "f7d7e973-d089-43e6-caee-5a241d52f9a4"
      },
      "execution_count": null,
      "outputs": [
        {
          "output_type": "stream",
          "name": "stdout",
          "text": [
            "Distance to Mars: 33.9 million miles from Earth.\n"
          ]
        }
      ]
    },
    {
      "cell_type": "code",
      "source": [
        "first=float(input(\"First: \"))\n",
        "second=float(input(\"Second: \"))\n",
        "sum= str(first + second)\n",
        "print(\"Sum: \"+sum)"
      ],
      "metadata": {
        "colab": {
          "base_uri": "https://localhost:8080/"
        },
        "id": "tzmDmoAKgebN",
        "outputId": "4c2769a2-3bdc-421a-ea44-4fcc7784ab91"
      },
      "execution_count": null,
      "outputs": [
        {
          "output_type": "stream",
          "name": "stdout",
          "text": [
            "First: 100\n",
            "Second: 25.5\n",
            "Sum: 125.5\n"
          ]
        }
      ]
    },
    {
      "cell_type": "markdown",
      "source": [
        "#**What can you do with strings?**"
      ],
      "metadata": {
        "id": "VPTvCxtYP9cx"
      }
    },
    {
      "cell_type": "code",
      "source": [
        "course=\"Python Class\" #String Object\n",
        "course.upper() #method = object + function"
      ],
      "metadata": {
        "colab": {
          "base_uri": "https://localhost:8080/",
          "height": 36
        },
        "id": "AFjPW-Fyjzlk",
        "outputId": "382cfa14-e425-4eae-cda6-4f2ad5a58021"
      },
      "execution_count": null,
      "outputs": [
        {
          "output_type": "execute_result",
          "data": {
            "text/plain": [
              "'PYTHON CLASS'"
            ],
            "application/vnd.google.colaboratory.intrinsic+json": {
              "type": "string"
            }
          },
          "metadata": {},
          "execution_count": 6
        }
      ]
    },
    {
      "cell_type": "code",
      "source": [
        "\"\"\"\n",
        "Remember Python is case sensitive.\n",
        "If you were to look for c,\n",
        "-1 would have been returned\n",
        "\"\"\"\n",
        "course=\"Python Class\" #String Object\n",
        "course.find(\"C\") #finds the index"
      ],
      "metadata": {
        "colab": {
          "base_uri": "https://localhost:8080/"
        },
        "id": "lGtv1aPek3Ry",
        "outputId": "ad526727-4f50-489f-d0f8-b00c14e92d39"
      },
      "execution_count": null,
      "outputs": [
        {
          "output_type": "execute_result",
          "data": {
            "text/plain": [
              "7"
            ]
          },
          "metadata": {},
          "execution_count": 49
        }
      ]
    },
    {
      "cell_type": "markdown",
      "source": [
        "#**Augmented assignment operator**"
      ],
      "metadata": {
        "id": "jClKXYMHQILl"
      }
    },
    {
      "cell_type": "code",
      "source": [
        "#Augmented assignment operator\n",
        "num=4\n",
        "num+=2\n",
        "print(num)"
      ],
      "metadata": {
        "colab": {
          "base_uri": "https://localhost:8080/"
        },
        "id": "IL4U7gOoHttI",
        "outputId": "1ac19070-29be-433b-a0cf-e8ffaca6e943"
      },
      "execution_count": null,
      "outputs": [
        {
          "output_type": "stream",
          "name": "stdout",
          "text": [
            "6\n"
          ]
        }
      ]
    },
    {
      "cell_type": "markdown",
      "source": [
        "# **More Expressions**"
      ],
      "metadata": {
        "id": "7OAjPH1qeBNf"
      }
    },
    {
      "cell_type": "code",
      "source": [
        "print(3+1*2-6/3)\n",
        "#Heads up: The first print will print 3.0\n",
        "#because there was division in the operation\n",
        "#it will give a float as a result."
      ],
      "metadata": {
        "colab": {
          "base_uri": "https://localhost:8080/"
        },
        "id": "FuLml49SOX-t",
        "outputId": "f0e9db52-147f-40e0-8210-3c306481bdf0"
      },
      "execution_count": null,
      "outputs": [
        {
          "output_type": "stream",
          "name": "stdout",
          "text": [
            "3.0\n"
          ]
        }
      ]
    },
    {
      "cell_type": "markdown",
      "source": [
        "# **Comparison Operators**"
      ],
      "metadata": {
        "id": "w4XBTZwdmbQx"
      }
    },
    {
      "cell_type": "code",
      "source": [
        "print(3>2)"
      ],
      "metadata": {
        "colab": {
          "base_uri": "https://localhost:8080/"
        },
        "id": "0Oh-_0uLmstt",
        "outputId": "0aa269b5-9d1a-4238-e563-82cf6393b4a1"
      },
      "execution_count": null,
      "outputs": [
        {
          "output_type": "stream",
          "name": "stdout",
          "text": [
            "True\n"
          ]
        }
      ]
    },
    {
      "cell_type": "markdown",
      "source": [
        "# **Logical Operators**"
      ],
      "metadata": {
        "id": "GsnjBm4vpedt"
      }
    },
    {
      "cell_type": "code",
      "source": [
        "price=25\n",
        "print(price>10 and price<30)\n",
        "price=5\n",
        "print(price>10 or price<30)\n",
        "print(not (price > 10))"
      ],
      "metadata": {
        "colab": {
          "base_uri": "https://localhost:8080/"
        },
        "id": "LrDOd36jph7Z",
        "outputId": "77daf00b-9c2b-4ae9-c390-312fa636a4cb"
      },
      "execution_count": null,
      "outputs": [
        {
          "output_type": "stream",
          "name": "stdout",
          "text": [
            "True\n",
            "True\n",
            "True\n"
          ]
        }
      ]
    },
    {
      "cell_type": "markdown",
      "source": [
        "# **If Statements**"
      ],
      "metadata": {
        "id": "TqNoekRgquhK"
      }
    },
    {
      "cell_type": "code",
      "source": [
        "# IF statements help make decisions within programs\n",
        "temp=85 #temperature\n",
        "\n",
        "#indentation is essential for IF statements\n",
        "if temp > 90:\n",
        "  print(\"It's a hot day. Drink plenty of water\")\n",
        "elif temp > 80:\n",
        "  print(\"It's a nice day\")\n",
        "# declaring a condition when temp is between 80 and 90\n",
        "print(\"Done\")\n",
        "#without this statement there wouldn't be any output if temp<=80"
      ],
      "metadata": {
        "colab": {
          "base_uri": "https://localhost:8080/"
        },
        "id": "dn3LZ1xlq07F",
        "outputId": "d880b976-558b-472f-d88a-55700aeb1e2c"
      },
      "execution_count": null,
      "outputs": [
        {
          "output_type": "stream",
          "name": "stdout",
          "text": [
            "It's a nice day\n",
            "Done\n"
          ]
        }
      ]
    },
    {
      "cell_type": "markdown",
      "source": [
        "# **While Loops**"
      ],
      "metadata": {
        "id": "lcm4_FVnts-S"
      }
    },
    {
      "cell_type": "code",
      "source": [
        "i=1\n",
        "while i<=5:\n",
        "  print(i)\n",
        "  i+=1"
      ],
      "metadata": {
        "colab": {
          "base_uri": "https://localhost:8080/"
        },
        "id": "UQ55S_oQtzoX",
        "outputId": "1b3e07d4-9fe7-4b38-c3c7-6935193385ba"
      },
      "execution_count": null,
      "outputs": [
        {
          "output_type": "stream",
          "name": "stdout",
          "text": [
            "1\n",
            "2\n",
            "3\n",
            "4\n",
            "5\n"
          ]
        }
      ]
    },
    {
      "cell_type": "markdown",
      "source": [
        "# **For Loops**"
      ],
      "metadata": {
        "id": "udp4M7mMuWik"
      }
    },
    {
      "cell_type": "code",
      "source": [
        "number=[1,2,3,4,5] #This is list (datatype)\n",
        "for item in number:\n",
        "  print(item)\n",
        "\n",
        "#Similar to While loop, but less lines\n",
        "#Also, you will need to know the number of items in the list"
      ],
      "metadata": {
        "colab": {
          "base_uri": "https://localhost:8080/"
        },
        "id": "VQvcQHU6uiGF",
        "outputId": "9b98ed11-0a97-4094-9cf9-807f11485eb4"
      },
      "execution_count": null,
      "outputs": [
        {
          "output_type": "stream",
          "name": "stdout",
          "text": [
            "1\n",
            "2\n",
            "3\n",
            "4\n",
            "5\n"
          ]
        }
      ]
    },
    {
      "cell_type": "markdown",
      "source": [
        "## **Calculate ice cream crates needed for the crew to last the 12-year journey to Neptune.**"
      ],
      "metadata": {
        "id": "9jDOGge-w_xj"
      }
    },
    {
      "cell_type": "code",
      "source": [
        "ic_crates_per_yr = int(input(\"How many crates are consumed each year? \"))\n",
        "yrs_to_neptune = 12\n",
        "ic_crates_supply = ic_crates_per_yr * yrs_to_neptune\n",
        "\n",
        "print(\"The crew will need\", ic_crates_supply, \"crates of ice cream total.\")"
      ],
      "metadata": {
        "colab": {
          "base_uri": "https://localhost:8080/"
        },
        "id": "_NNRoRoqxAWO",
        "outputId": "8952d8ce-890e-4687-dc87-83e76c2d3627"
      },
      "execution_count": null,
      "outputs": [
        {
          "output_type": "stream",
          "name": "stdout",
          "text": [
            "How many crates are consumed each year? 25\n",
            "The crew will need 300 crates of ice cream total.\n"
          ]
        }
      ]
    }
  ]
}