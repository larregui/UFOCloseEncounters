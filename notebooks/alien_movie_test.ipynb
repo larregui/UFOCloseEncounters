{
 "cells": [
  {
   "cell_type": "code",
   "execution_count": 2,
   "metadata": {},
   "outputs": [
    {
     "name": "stderr",
     "output_type": "stream",
     "text": [
      "C:\\Users\\tmacd\\Anaconda3\\lib\\site-packages\\statsmodels\\tools\\_testing.py:19: FutureWarning: pandas.util.testing is deprecated. Use the functions in the public API at pandas.testing instead.\n",
      "  import pandas.util.testing as tm\n"
     ]
    }
   ],
   "source": [
    "import pandas as pd #data frame operations\n",
    "import numpy as np #arrays and math functions\n",
    "from scipy.stats import uniform #for training and test splits\n",
    "import statsmodels.api as sm  # statistical models (including regression)"
   ]
  },
  {
   "cell_type": "code",
   "execution_count": 27,
   "metadata": {},
   "outputs": [
    {
     "name": "stdout",
     "output_type": "stream",
     "text": [
      "What are the dimensions of the dataset?\n",
      " (580, 4)\n",
      "What are the datatypes for each variable?\n",
      " Title          object\n",
      "Year            int64\n",
      "Unnamed: 2    float64\n",
      "Unnamed: 3    float64\n",
      "dtype: object\n",
      "Descriptive Statistics\n",
      "               Year  Unnamed: 2  Unnamed: 3\n",
      "count   580.000000         0.0         0.0\n",
      "mean   1991.512069         NaN         NaN\n",
      "std      21.687166         NaN         NaN\n",
      "min    1902.000000         NaN         NaN\n",
      "25%    1979.000000         NaN         NaN\n",
      "50%    1996.000000         NaN         NaN\n",
      "75%    2009.000000         NaN         NaN\n",
      "max    2021.000000         NaN         NaN\n",
      "Are there any null values?\n",
      " Title - 0%\n",
      "Are there any null values?\n",
      " Year - 0%\n",
      "Are there any null values?\n",
      " Unnamed: 2 - 100%\n",
      "Are there any null values?\n",
      " Unnamed: 3 - 100%\n"
     ]
    }
   ],
   "source": [
    "# read in Alien Movie data\n",
    "alien = pd.read_csv(\"alien_movies.csv\")\n",
    "\n",
    "\n",
    "# shape and data types of the data\n",
    "print(\"What are the dimensions of the dataset?\\n\",alien.shape)\n",
    "print(\"What are the datatypes for each variable?\\n\",alien.dtypes)\n",
    "# compute descriptive statistics \n",
    "print(\"Descriptive Statistics\\n\",alien.describe())\n",
    "# % of missing.\n",
    "for col in alien.columns:\n",
    "    pct_missing = np.mean(alien[col].isnull())\n",
    "    print(\"Are there any null values?\\n\",'{} - {}%'.format(col, round(pct_missing*100)))\n"
   ]
  },
  {
   "cell_type": "code",
   "execution_count": 28,
   "metadata": {},
   "outputs": [
    {
     "name": "stdout",
     "output_type": "stream",
     "text": [
      "(580, 2)\n"
     ]
    }
   ],
   "source": [
    "#drop empty columns\n",
    "alien.drop(alien.columns[[2,3]], axis = 1,inplace = True)\n",
    "print(alien.shape)"
   ]
  },
  {
   "cell_type": "code",
   "execution_count": 34,
   "metadata": {},
   "outputs": [
    {
     "name": "stdout",
     "output_type": "stream",
     "text": [
      "524    1902\n",
      "175    1908\n",
      "330    1913\n",
      "523    1918\n",
      "15     1920\n",
      "       ... \n",
      "428    2020\n",
      "398    2020\n",
      "350    2020\n",
      "540    2021\n",
      "161    2021\n",
      "Name: Year, Length: 580, dtype: int64\n"
     ]
    }
   ],
   "source": [
    "#Sort by year\n",
    "alien = alien.sort_values(by=[\"Year\"])\n",
    "print(alien.Year)\n",
    "\n"
   ]
  },
  {
   "cell_type": "code",
   "execution_count": 40,
   "metadata": {},
   "outputs": [
    {
     "name": "stdout",
     "output_type": "stream",
     "text": [
      "Title            object\n",
      "Year     datetime64[ns]\n",
      "dtype: object\n",
      "Title            object\n",
      "Year     datetime64[ns]\n",
      "dtype: object\n",
      "524   1970-01-01 00:00:00.000001902\n",
      "175   1970-01-01 00:00:00.000001908\n",
      "330   1970-01-01 00:00:00.000001913\n",
      "523   1970-01-01 00:00:00.000001918\n",
      "15    1970-01-01 00:00:00.000001920\n",
      "                   ...             \n",
      "428   1970-01-01 00:00:00.000002020\n",
      "398   1970-01-01 00:00:00.000002020\n",
      "350   1970-01-01 00:00:00.000002020\n",
      "540   1970-01-01 00:00:00.000002021\n",
      "161   1970-01-01 00:00:00.000002021\n",
      "Name: Year, Length: 580, dtype: datetime64[ns]\n"
     ]
    }
   ],
   "source": [
    "\n",
    "#not working for some reason\n",
    "#changing Title column to type String\n",
    "alien.Title = alien.Title.astype(str)\n",
    "print(alien.dtypes)\n",
    "\n",
    "#needs more testing. date format is wonky. returning 1970-01-01 00:00:00.000001902\n",
    "#change year to datetime type\n",
    "alien['Year']= pd.to_datetime(alien['Year'])\n",
    "print(alien.dtypes)\n",
    "print(alien[\"Year\"])"
   ]
  },
  {
   "cell_type": "code",
   "execution_count": 32,
   "metadata": {},
   "outputs": [],
   "source": [
    "# alien.plot.bar(x='Year')"
   ]
  }
 ],
 "metadata": {
  "kernelspec": {
   "display_name": "Python 3",
   "language": "python",
   "name": "python3"
  }
 },
 "nbformat": 4,
 "nbformat_minor": 2
}
